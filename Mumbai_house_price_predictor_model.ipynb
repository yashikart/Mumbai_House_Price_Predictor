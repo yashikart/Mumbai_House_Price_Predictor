{
 "cells": [
  {
   "cell_type": "code",
   "execution_count": 2,
   "id": "68ec275c",
   "metadata": {},
   "outputs": [],
   "source": [
    "import pandas as pd\n",
    "import numpy as np\n",
    "import seaborn as sns\n",
    "import matplotlib.pyplot as plt\n",
    "%matplotlib inline"
   ]
  },
  {
   "cell_type": "code",
   "execution_count": 3,
   "id": "fd1521cf",
   "metadata": {},
   "outputs": [],
   "source": [
    "house = pd.read_csv('Mumbai1.csv')"
   ]
  },
  {
   "cell_type": "code",
   "execution_count": 4,
   "id": "25056cef",
   "metadata": {},
   "outputs": [
    {
     "data": {
      "text/html": [
       "<div>\n",
       "<style scoped>\n",
       "    .dataframe tbody tr th:only-of-type {\n",
       "        vertical-align: middle;\n",
       "    }\n",
       "\n",
       "    .dataframe tbody tr th {\n",
       "        vertical-align: top;\n",
       "    }\n",
       "\n",
       "    .dataframe thead th {\n",
       "        text-align: right;\n",
       "    }\n",
       "</style>\n",
       "<table border=\"1\" class=\"dataframe\">\n",
       "  <thead>\n",
       "    <tr style=\"text-align: right;\">\n",
       "      <th></th>\n",
       "      <th>Unnamed: 0</th>\n",
       "      <th>Price</th>\n",
       "      <th>Area</th>\n",
       "      <th>Location</th>\n",
       "      <th>No. of Bedrooms</th>\n",
       "      <th>New/Resale</th>\n",
       "      <th>Gymnasium</th>\n",
       "      <th>Lift Available</th>\n",
       "      <th>Car Parking</th>\n",
       "      <th>Maintenance Staff</th>\n",
       "      <th>24x7 Security</th>\n",
       "      <th>Children's Play Area</th>\n",
       "      <th>Clubhouse</th>\n",
       "      <th>Intercom</th>\n",
       "      <th>Landscaped Gardens</th>\n",
       "      <th>Indoor Games</th>\n",
       "      <th>Gas Connection</th>\n",
       "      <th>Jogging Track</th>\n",
       "      <th>Swimming Pool</th>\n",
       "    </tr>\n",
       "  </thead>\n",
       "  <tbody>\n",
       "    <tr>\n",
       "      <th>0</th>\n",
       "      <td>0</td>\n",
       "      <td>4850000</td>\n",
       "      <td>720</td>\n",
       "      <td>Kharghar</td>\n",
       "      <td>1</td>\n",
       "      <td>0</td>\n",
       "      <td>0</td>\n",
       "      <td>1</td>\n",
       "      <td>1</td>\n",
       "      <td>1</td>\n",
       "      <td>1</td>\n",
       "      <td>0</td>\n",
       "      <td>0</td>\n",
       "      <td>0</td>\n",
       "      <td>0</td>\n",
       "      <td>0</td>\n",
       "      <td>0</td>\n",
       "      <td>0</td>\n",
       "      <td>0</td>\n",
       "    </tr>\n",
       "    <tr>\n",
       "      <th>1</th>\n",
       "      <td>1</td>\n",
       "      <td>4500000</td>\n",
       "      <td>600</td>\n",
       "      <td>Kharghar</td>\n",
       "      <td>1</td>\n",
       "      <td>0</td>\n",
       "      <td>1</td>\n",
       "      <td>1</td>\n",
       "      <td>1</td>\n",
       "      <td>1</td>\n",
       "      <td>1</td>\n",
       "      <td>0</td>\n",
       "      <td>1</td>\n",
       "      <td>0</td>\n",
       "      <td>0</td>\n",
       "      <td>0</td>\n",
       "      <td>0</td>\n",
       "      <td>1</td>\n",
       "      <td>1</td>\n",
       "    </tr>\n",
       "    <tr>\n",
       "      <th>2</th>\n",
       "      <td>2</td>\n",
       "      <td>6700000</td>\n",
       "      <td>650</td>\n",
       "      <td>Kharghar</td>\n",
       "      <td>1</td>\n",
       "      <td>0</td>\n",
       "      <td>1</td>\n",
       "      <td>1</td>\n",
       "      <td>1</td>\n",
       "      <td>1</td>\n",
       "      <td>1</td>\n",
       "      <td>1</td>\n",
       "      <td>1</td>\n",
       "      <td>1</td>\n",
       "      <td>0</td>\n",
       "      <td>0</td>\n",
       "      <td>0</td>\n",
       "      <td>1</td>\n",
       "      <td>1</td>\n",
       "    </tr>\n",
       "    <tr>\n",
       "      <th>3</th>\n",
       "      <td>3</td>\n",
       "      <td>4500000</td>\n",
       "      <td>650</td>\n",
       "      <td>Kharghar</td>\n",
       "      <td>1</td>\n",
       "      <td>0</td>\n",
       "      <td>0</td>\n",
       "      <td>1</td>\n",
       "      <td>1</td>\n",
       "      <td>1</td>\n",
       "      <td>1</td>\n",
       "      <td>0</td>\n",
       "      <td>0</td>\n",
       "      <td>1</td>\n",
       "      <td>1</td>\n",
       "      <td>0</td>\n",
       "      <td>0</td>\n",
       "      <td>0</td>\n",
       "      <td>0</td>\n",
       "    </tr>\n",
       "    <tr>\n",
       "      <th>4</th>\n",
       "      <td>4</td>\n",
       "      <td>5000000</td>\n",
       "      <td>665</td>\n",
       "      <td>Kharghar</td>\n",
       "      <td>1</td>\n",
       "      <td>0</td>\n",
       "      <td>0</td>\n",
       "      <td>1</td>\n",
       "      <td>1</td>\n",
       "      <td>1</td>\n",
       "      <td>1</td>\n",
       "      <td>0</td>\n",
       "      <td>0</td>\n",
       "      <td>1</td>\n",
       "      <td>1</td>\n",
       "      <td>0</td>\n",
       "      <td>0</td>\n",
       "      <td>0</td>\n",
       "      <td>0</td>\n",
       "    </tr>\n",
       "  </tbody>\n",
       "</table>\n",
       "</div>"
      ],
      "text/plain": [
       "   Unnamed: 0    Price  Area  Location  No. of Bedrooms  New/Resale  \\\n",
       "0           0  4850000   720  Kharghar                1           0   \n",
       "1           1  4500000   600  Kharghar                1           0   \n",
       "2           2  6700000   650  Kharghar                1           0   \n",
       "3           3  4500000   650  Kharghar                1           0   \n",
       "4           4  5000000   665  Kharghar                1           0   \n",
       "\n",
       "   Gymnasium  Lift Available  Car Parking  Maintenance Staff  24x7 Security  \\\n",
       "0          0               1            1                  1              1   \n",
       "1          1               1            1                  1              1   \n",
       "2          1               1            1                  1              1   \n",
       "3          0               1            1                  1              1   \n",
       "4          0               1            1                  1              1   \n",
       "\n",
       "   Children's Play Area  Clubhouse  Intercom  Landscaped Gardens  \\\n",
       "0                     0          0         0                   0   \n",
       "1                     0          1         0                   0   \n",
       "2                     1          1         1                   0   \n",
       "3                     0          0         1                   1   \n",
       "4                     0          0         1                   1   \n",
       "\n",
       "   Indoor Games  Gas Connection  Jogging Track  Swimming Pool  \n",
       "0             0               0              0              0  \n",
       "1             0               0              1              1  \n",
       "2             0               0              1              1  \n",
       "3             0               0              0              0  \n",
       "4             0               0              0              0  "
      ]
     },
     "execution_count": 4,
     "metadata": {},
     "output_type": "execute_result"
    }
   ],
   "source": [
    "house.head()"
   ]
  },
  {
   "cell_type": "code",
   "execution_count": 5,
   "id": "37bc70eb",
   "metadata": {},
   "outputs": [],
   "source": [
    "house = house.drop(columns=['Unnamed: 0'])"
   ]
  },
  {
   "cell_type": "code",
   "execution_count": 6,
   "id": "6cfe0253",
   "metadata": {},
   "outputs": [
    {
     "data": {
      "text/plain": [
       "0"
      ]
     },
     "execution_count": 6,
     "metadata": {},
     "output_type": "execute_result"
    }
   ],
   "source": [
    "house.duplicated().sum()"
   ]
  },
  {
   "cell_type": "code",
   "execution_count": 7,
   "id": "5efb0f78",
   "metadata": {},
   "outputs": [
    {
     "name": "stdout",
     "output_type": "stream",
     "text": [
      "<class 'pandas.core.frame.DataFrame'>\n",
      "RangeIndex: 6347 entries, 0 to 6346\n",
      "Data columns (total 18 columns):\n",
      " #   Column                Non-Null Count  Dtype \n",
      "---  ------                --------------  ----- \n",
      " 0   Price                 6347 non-null   int64 \n",
      " 1   Area                  6347 non-null   int64 \n",
      " 2   Location              6347 non-null   object\n",
      " 3   No. of Bedrooms       6347 non-null   int64 \n",
      " 4   New/Resale            6347 non-null   int64 \n",
      " 5   Gymnasium             6347 non-null   int64 \n",
      " 6   Lift Available        6347 non-null   int64 \n",
      " 7   Car Parking           6347 non-null   int64 \n",
      " 8   Maintenance Staff     6347 non-null   int64 \n",
      " 9   24x7 Security         6347 non-null   int64 \n",
      " 10  Children's Play Area  6347 non-null   int64 \n",
      " 11  Clubhouse             6347 non-null   int64 \n",
      " 12  Intercom              6347 non-null   int64 \n",
      " 13  Landscaped Gardens    6347 non-null   int64 \n",
      " 14  Indoor Games          6347 non-null   int64 \n",
      " 15  Gas Connection        6347 non-null   int64 \n",
      " 16  Jogging Track         6347 non-null   int64 \n",
      " 17  Swimming Pool         6347 non-null   int64 \n",
      "dtypes: int64(17), object(1)\n",
      "memory usage: 892.7+ KB\n"
     ]
    }
   ],
   "source": [
    "house.info()"
   ]
  },
  {
   "cell_type": "code",
   "execution_count": 8,
   "id": "25dbaa1b",
   "metadata": {},
   "outputs": [
    {
     "data": {
      "text/html": [
       "<div>\n",
       "<style scoped>\n",
       "    .dataframe tbody tr th:only-of-type {\n",
       "        vertical-align: middle;\n",
       "    }\n",
       "\n",
       "    .dataframe tbody tr th {\n",
       "        vertical-align: top;\n",
       "    }\n",
       "\n",
       "    .dataframe thead th {\n",
       "        text-align: right;\n",
       "    }\n",
       "</style>\n",
       "<table border=\"1\" class=\"dataframe\">\n",
       "  <thead>\n",
       "    <tr style=\"text-align: right;\">\n",
       "      <th></th>\n",
       "      <th>Price</th>\n",
       "      <th>Area</th>\n",
       "      <th>Location</th>\n",
       "      <th>No. of Bedrooms</th>\n",
       "      <th>New/Resale</th>\n",
       "      <th>Gymnasium</th>\n",
       "      <th>Lift Available</th>\n",
       "      <th>Car Parking</th>\n",
       "      <th>Maintenance Staff</th>\n",
       "      <th>24x7 Security</th>\n",
       "      <th>Children's Play Area</th>\n",
       "      <th>Clubhouse</th>\n",
       "      <th>Intercom</th>\n",
       "      <th>Landscaped Gardens</th>\n",
       "      <th>Indoor Games</th>\n",
       "      <th>Gas Connection</th>\n",
       "      <th>Jogging Track</th>\n",
       "      <th>Swimming Pool</th>\n",
       "    </tr>\n",
       "  </thead>\n",
       "  <tbody>\n",
       "    <tr>\n",
       "      <th>0</th>\n",
       "      <td>4850000</td>\n",
       "      <td>720</td>\n",
       "      <td>Kharghar</td>\n",
       "      <td>1</td>\n",
       "      <td>0</td>\n",
       "      <td>0</td>\n",
       "      <td>1</td>\n",
       "      <td>1</td>\n",
       "      <td>1</td>\n",
       "      <td>1</td>\n",
       "      <td>0</td>\n",
       "      <td>0</td>\n",
       "      <td>0</td>\n",
       "      <td>0</td>\n",
       "      <td>0</td>\n",
       "      <td>0</td>\n",
       "      <td>0</td>\n",
       "      <td>0</td>\n",
       "    </tr>\n",
       "    <tr>\n",
       "      <th>1</th>\n",
       "      <td>4500000</td>\n",
       "      <td>600</td>\n",
       "      <td>Kharghar</td>\n",
       "      <td>1</td>\n",
       "      <td>0</td>\n",
       "      <td>1</td>\n",
       "      <td>1</td>\n",
       "      <td>1</td>\n",
       "      <td>1</td>\n",
       "      <td>1</td>\n",
       "      <td>0</td>\n",
       "      <td>1</td>\n",
       "      <td>0</td>\n",
       "      <td>0</td>\n",
       "      <td>0</td>\n",
       "      <td>0</td>\n",
       "      <td>1</td>\n",
       "      <td>1</td>\n",
       "    </tr>\n",
       "    <tr>\n",
       "      <th>2</th>\n",
       "      <td>6700000</td>\n",
       "      <td>650</td>\n",
       "      <td>Kharghar</td>\n",
       "      <td>1</td>\n",
       "      <td>0</td>\n",
       "      <td>1</td>\n",
       "      <td>1</td>\n",
       "      <td>1</td>\n",
       "      <td>1</td>\n",
       "      <td>1</td>\n",
       "      <td>1</td>\n",
       "      <td>1</td>\n",
       "      <td>1</td>\n",
       "      <td>0</td>\n",
       "      <td>0</td>\n",
       "      <td>0</td>\n",
       "      <td>1</td>\n",
       "      <td>1</td>\n",
       "    </tr>\n",
       "    <tr>\n",
       "      <th>3</th>\n",
       "      <td>4500000</td>\n",
       "      <td>650</td>\n",
       "      <td>Kharghar</td>\n",
       "      <td>1</td>\n",
       "      <td>0</td>\n",
       "      <td>0</td>\n",
       "      <td>1</td>\n",
       "      <td>1</td>\n",
       "      <td>1</td>\n",
       "      <td>1</td>\n",
       "      <td>0</td>\n",
       "      <td>0</td>\n",
       "      <td>1</td>\n",
       "      <td>1</td>\n",
       "      <td>0</td>\n",
       "      <td>0</td>\n",
       "      <td>0</td>\n",
       "      <td>0</td>\n",
       "    </tr>\n",
       "    <tr>\n",
       "      <th>4</th>\n",
       "      <td>5000000</td>\n",
       "      <td>665</td>\n",
       "      <td>Kharghar</td>\n",
       "      <td>1</td>\n",
       "      <td>0</td>\n",
       "      <td>0</td>\n",
       "      <td>1</td>\n",
       "      <td>1</td>\n",
       "      <td>1</td>\n",
       "      <td>1</td>\n",
       "      <td>0</td>\n",
       "      <td>0</td>\n",
       "      <td>1</td>\n",
       "      <td>1</td>\n",
       "      <td>0</td>\n",
       "      <td>0</td>\n",
       "      <td>0</td>\n",
       "      <td>0</td>\n",
       "    </tr>\n",
       "    <tr>\n",
       "      <th>...</th>\n",
       "      <td>...</td>\n",
       "      <td>...</td>\n",
       "      <td>...</td>\n",
       "      <td>...</td>\n",
       "      <td>...</td>\n",
       "      <td>...</td>\n",
       "      <td>...</td>\n",
       "      <td>...</td>\n",
       "      <td>...</td>\n",
       "      <td>...</td>\n",
       "      <td>...</td>\n",
       "      <td>...</td>\n",
       "      <td>...</td>\n",
       "      <td>...</td>\n",
       "      <td>...</td>\n",
       "      <td>...</td>\n",
       "      <td>...</td>\n",
       "      <td>...</td>\n",
       "    </tr>\n",
       "    <tr>\n",
       "      <th>6342</th>\n",
       "      <td>2485000</td>\n",
       "      <td>700</td>\n",
       "      <td>Shirgaon</td>\n",
       "      <td>1</td>\n",
       "      <td>1</td>\n",
       "      <td>0</td>\n",
       "      <td>0</td>\n",
       "      <td>0</td>\n",
       "      <td>0</td>\n",
       "      <td>0</td>\n",
       "      <td>0</td>\n",
       "      <td>0</td>\n",
       "      <td>0</td>\n",
       "      <td>0</td>\n",
       "      <td>0</td>\n",
       "      <td>0</td>\n",
       "      <td>0</td>\n",
       "      <td>0</td>\n",
       "    </tr>\n",
       "    <tr>\n",
       "      <th>6343</th>\n",
       "      <td>14500000</td>\n",
       "      <td>900</td>\n",
       "      <td>Thane West</td>\n",
       "      <td>2</td>\n",
       "      <td>0</td>\n",
       "      <td>0</td>\n",
       "      <td>0</td>\n",
       "      <td>0</td>\n",
       "      <td>0</td>\n",
       "      <td>0</td>\n",
       "      <td>0</td>\n",
       "      <td>0</td>\n",
       "      <td>0</td>\n",
       "      <td>0</td>\n",
       "      <td>0</td>\n",
       "      <td>0</td>\n",
       "      <td>0</td>\n",
       "      <td>0</td>\n",
       "    </tr>\n",
       "    <tr>\n",
       "      <th>6344</th>\n",
       "      <td>14500000</td>\n",
       "      <td>900</td>\n",
       "      <td>Thane West</td>\n",
       "      <td>2</td>\n",
       "      <td>0</td>\n",
       "      <td>0</td>\n",
       "      <td>1</td>\n",
       "      <td>0</td>\n",
       "      <td>0</td>\n",
       "      <td>0</td>\n",
       "      <td>0</td>\n",
       "      <td>0</td>\n",
       "      <td>1</td>\n",
       "      <td>0</td>\n",
       "      <td>0</td>\n",
       "      <td>1</td>\n",
       "      <td>0</td>\n",
       "      <td>0</td>\n",
       "    </tr>\n",
       "    <tr>\n",
       "      <th>6345</th>\n",
       "      <td>4100000</td>\n",
       "      <td>1380</td>\n",
       "      <td>Boisar</td>\n",
       "      <td>3</td>\n",
       "      <td>0</td>\n",
       "      <td>0</td>\n",
       "      <td>0</td>\n",
       "      <td>0</td>\n",
       "      <td>0</td>\n",
       "      <td>0</td>\n",
       "      <td>0</td>\n",
       "      <td>0</td>\n",
       "      <td>0</td>\n",
       "      <td>0</td>\n",
       "      <td>0</td>\n",
       "      <td>0</td>\n",
       "      <td>0</td>\n",
       "      <td>0</td>\n",
       "    </tr>\n",
       "    <tr>\n",
       "      <th>6346</th>\n",
       "      <td>2750000</td>\n",
       "      <td>700</td>\n",
       "      <td>Badlapur East</td>\n",
       "      <td>1</td>\n",
       "      <td>1</td>\n",
       "      <td>1</td>\n",
       "      <td>1</td>\n",
       "      <td>1</td>\n",
       "      <td>0</td>\n",
       "      <td>1</td>\n",
       "      <td>1</td>\n",
       "      <td>1</td>\n",
       "      <td>0</td>\n",
       "      <td>1</td>\n",
       "      <td>1</td>\n",
       "      <td>0</td>\n",
       "      <td>1</td>\n",
       "      <td>1</td>\n",
       "    </tr>\n",
       "  </tbody>\n",
       "</table>\n",
       "<p>6347 rows × 18 columns</p>\n",
       "</div>"
      ],
      "text/plain": [
       "         Price  Area       Location  No. of Bedrooms  New/Resale  Gymnasium  \\\n",
       "0      4850000   720       Kharghar                1           0          0   \n",
       "1      4500000   600       Kharghar                1           0          1   \n",
       "2      6700000   650       Kharghar                1           0          1   \n",
       "3      4500000   650       Kharghar                1           0          0   \n",
       "4      5000000   665       Kharghar                1           0          0   \n",
       "...        ...   ...            ...              ...         ...        ...   \n",
       "6342   2485000   700       Shirgaon                1           1          0   \n",
       "6343  14500000   900     Thane West                2           0          0   \n",
       "6344  14500000   900     Thane West                2           0          0   \n",
       "6345   4100000  1380         Boisar                3           0          0   \n",
       "6346   2750000   700  Badlapur East                1           1          1   \n",
       "\n",
       "      Lift Available  Car Parking  Maintenance Staff  24x7 Security  \\\n",
       "0                  1            1                  1              1   \n",
       "1                  1            1                  1              1   \n",
       "2                  1            1                  1              1   \n",
       "3                  1            1                  1              1   \n",
       "4                  1            1                  1              1   \n",
       "...              ...          ...                ...            ...   \n",
       "6342               0            0                  0              0   \n",
       "6343               0            0                  0              0   \n",
       "6344               1            0                  0              0   \n",
       "6345               0            0                  0              0   \n",
       "6346               1            1                  0              1   \n",
       "\n",
       "      Children's Play Area  Clubhouse  Intercom  Landscaped Gardens  \\\n",
       "0                        0          0         0                   0   \n",
       "1                        0          1         0                   0   \n",
       "2                        1          1         1                   0   \n",
       "3                        0          0         1                   1   \n",
       "4                        0          0         1                   1   \n",
       "...                    ...        ...       ...                 ...   \n",
       "6342                     0          0         0                   0   \n",
       "6343                     0          0         0                   0   \n",
       "6344                     0          0         1                   0   \n",
       "6345                     0          0         0                   0   \n",
       "6346                     1          1         0                   1   \n",
       "\n",
       "      Indoor Games  Gas Connection  Jogging Track  Swimming Pool  \n",
       "0                0               0              0              0  \n",
       "1                0               0              1              1  \n",
       "2                0               0              1              1  \n",
       "3                0               0              0              0  \n",
       "4                0               0              0              0  \n",
       "...            ...             ...            ...            ...  \n",
       "6342             0               0              0              0  \n",
       "6343             0               0              0              0  \n",
       "6344             0               1              0              0  \n",
       "6345             0               0              0              0  \n",
       "6346             1               0              1              1  \n",
       "\n",
       "[6347 rows x 18 columns]"
      ]
     },
     "execution_count": 8,
     "metadata": {},
     "output_type": "execute_result"
    }
   ],
   "source": [
    "house"
   ]
  },
  {
   "cell_type": "code",
   "execution_count": 9,
   "id": "0fe12ffb",
   "metadata": {},
   "outputs": [
    {
     "data": {
      "text/plain": [
       "Index(['Price', 'Area', 'Location', 'No. of Bedrooms', 'New/Resale',\n",
       "       'Gymnasium', 'Lift Available', 'Car Parking', 'Maintenance Staff',\n",
       "       '24x7 Security', 'Children's Play Area', 'Clubhouse', 'Intercom',\n",
       "       'Landscaped Gardens', 'Indoor Games', 'Gas Connection', 'Jogging Track',\n",
       "       'Swimming Pool'],\n",
       "      dtype='object')"
      ]
     },
     "execution_count": 9,
     "metadata": {},
     "output_type": "execute_result"
    }
   ],
   "source": [
    "house.columns"
   ]
  },
  {
   "cell_type": "code",
   "execution_count": 10,
   "id": "ed867eb6",
   "metadata": {},
   "outputs": [],
   "source": [
    "house = house.drop(columns=['New/Resale','Lift Available','Maintenance Staff',\n",
    "                   '24x7 Security', \"Children's Play Area\", 'Clubhouse', 'Intercom',\n",
    "        'Indoor Games', 'Gas Connection', 'Jogging Track'\n",
    "       ])"
   ]
  },
  {
   "cell_type": "code",
   "execution_count": 11,
   "id": "db48fc67",
   "metadata": {
    "scrolled": true
   },
   "outputs": [
    {
     "data": {
      "text/html": [
       "<div>\n",
       "<style scoped>\n",
       "    .dataframe tbody tr th:only-of-type {\n",
       "        vertical-align: middle;\n",
       "    }\n",
       "\n",
       "    .dataframe tbody tr th {\n",
       "        vertical-align: top;\n",
       "    }\n",
       "\n",
       "    .dataframe thead th {\n",
       "        text-align: right;\n",
       "    }\n",
       "</style>\n",
       "<table border=\"1\" class=\"dataframe\">\n",
       "  <thead>\n",
       "    <tr style=\"text-align: right;\">\n",
       "      <th></th>\n",
       "      <th>Price</th>\n",
       "      <th>Area</th>\n",
       "      <th>Location</th>\n",
       "      <th>No. of Bedrooms</th>\n",
       "      <th>Gymnasium</th>\n",
       "      <th>Car Parking</th>\n",
       "      <th>Landscaped Gardens</th>\n",
       "      <th>Swimming Pool</th>\n",
       "    </tr>\n",
       "  </thead>\n",
       "  <tbody>\n",
       "    <tr>\n",
       "      <th>0</th>\n",
       "      <td>4850000</td>\n",
       "      <td>720</td>\n",
       "      <td>Kharghar</td>\n",
       "      <td>1</td>\n",
       "      <td>0</td>\n",
       "      <td>1</td>\n",
       "      <td>0</td>\n",
       "      <td>0</td>\n",
       "    </tr>\n",
       "    <tr>\n",
       "      <th>1</th>\n",
       "      <td>4500000</td>\n",
       "      <td>600</td>\n",
       "      <td>Kharghar</td>\n",
       "      <td>1</td>\n",
       "      <td>1</td>\n",
       "      <td>1</td>\n",
       "      <td>0</td>\n",
       "      <td>1</td>\n",
       "    </tr>\n",
       "    <tr>\n",
       "      <th>2</th>\n",
       "      <td>6700000</td>\n",
       "      <td>650</td>\n",
       "      <td>Kharghar</td>\n",
       "      <td>1</td>\n",
       "      <td>1</td>\n",
       "      <td>1</td>\n",
       "      <td>0</td>\n",
       "      <td>1</td>\n",
       "    </tr>\n",
       "    <tr>\n",
       "      <th>3</th>\n",
       "      <td>4500000</td>\n",
       "      <td>650</td>\n",
       "      <td>Kharghar</td>\n",
       "      <td>1</td>\n",
       "      <td>0</td>\n",
       "      <td>1</td>\n",
       "      <td>1</td>\n",
       "      <td>0</td>\n",
       "    </tr>\n",
       "    <tr>\n",
       "      <th>4</th>\n",
       "      <td>5000000</td>\n",
       "      <td>665</td>\n",
       "      <td>Kharghar</td>\n",
       "      <td>1</td>\n",
       "      <td>0</td>\n",
       "      <td>1</td>\n",
       "      <td>1</td>\n",
       "      <td>0</td>\n",
       "    </tr>\n",
       "    <tr>\n",
       "      <th>...</th>\n",
       "      <td>...</td>\n",
       "      <td>...</td>\n",
       "      <td>...</td>\n",
       "      <td>...</td>\n",
       "      <td>...</td>\n",
       "      <td>...</td>\n",
       "      <td>...</td>\n",
       "      <td>...</td>\n",
       "    </tr>\n",
       "    <tr>\n",
       "      <th>6342</th>\n",
       "      <td>2485000</td>\n",
       "      <td>700</td>\n",
       "      <td>Shirgaon</td>\n",
       "      <td>1</td>\n",
       "      <td>0</td>\n",
       "      <td>0</td>\n",
       "      <td>0</td>\n",
       "      <td>0</td>\n",
       "    </tr>\n",
       "    <tr>\n",
       "      <th>6343</th>\n",
       "      <td>14500000</td>\n",
       "      <td>900</td>\n",
       "      <td>Thane West</td>\n",
       "      <td>2</td>\n",
       "      <td>0</td>\n",
       "      <td>0</td>\n",
       "      <td>0</td>\n",
       "      <td>0</td>\n",
       "    </tr>\n",
       "    <tr>\n",
       "      <th>6344</th>\n",
       "      <td>14500000</td>\n",
       "      <td>900</td>\n",
       "      <td>Thane West</td>\n",
       "      <td>2</td>\n",
       "      <td>0</td>\n",
       "      <td>0</td>\n",
       "      <td>0</td>\n",
       "      <td>0</td>\n",
       "    </tr>\n",
       "    <tr>\n",
       "      <th>6345</th>\n",
       "      <td>4100000</td>\n",
       "      <td>1380</td>\n",
       "      <td>Boisar</td>\n",
       "      <td>3</td>\n",
       "      <td>0</td>\n",
       "      <td>0</td>\n",
       "      <td>0</td>\n",
       "      <td>0</td>\n",
       "    </tr>\n",
       "    <tr>\n",
       "      <th>6346</th>\n",
       "      <td>2750000</td>\n",
       "      <td>700</td>\n",
       "      <td>Badlapur East</td>\n",
       "      <td>1</td>\n",
       "      <td>1</td>\n",
       "      <td>1</td>\n",
       "      <td>1</td>\n",
       "      <td>1</td>\n",
       "    </tr>\n",
       "  </tbody>\n",
       "</table>\n",
       "<p>6347 rows × 8 columns</p>\n",
       "</div>"
      ],
      "text/plain": [
       "         Price  Area       Location  No. of Bedrooms  Gymnasium  Car Parking  \\\n",
       "0      4850000   720       Kharghar                1          0            1   \n",
       "1      4500000   600       Kharghar                1          1            1   \n",
       "2      6700000   650       Kharghar                1          1            1   \n",
       "3      4500000   650       Kharghar                1          0            1   \n",
       "4      5000000   665       Kharghar                1          0            1   \n",
       "...        ...   ...            ...              ...        ...          ...   \n",
       "6342   2485000   700       Shirgaon                1          0            0   \n",
       "6343  14500000   900     Thane West                2          0            0   \n",
       "6344  14500000   900     Thane West                2          0            0   \n",
       "6345   4100000  1380         Boisar                3          0            0   \n",
       "6346   2750000   700  Badlapur East                1          1            1   \n",
       "\n",
       "      Landscaped Gardens  Swimming Pool  \n",
       "0                      0              0  \n",
       "1                      0              1  \n",
       "2                      0              1  \n",
       "3                      1              0  \n",
       "4                      1              0  \n",
       "...                  ...            ...  \n",
       "6342                   0              0  \n",
       "6343                   0              0  \n",
       "6344                   0              0  \n",
       "6345                   0              0  \n",
       "6346                   1              1  \n",
       "\n",
       "[6347 rows x 8 columns]"
      ]
     },
     "execution_count": 11,
     "metadata": {},
     "output_type": "execute_result"
    }
   ],
   "source": [
    "house"
   ]
  },
  {
   "cell_type": "code",
   "execution_count": 12,
   "id": "8ceccf8f",
   "metadata": {
    "scrolled": true
   },
   "outputs": [
    {
     "data": {
      "text/plain": [
       "<Axes: xlabel='Price'>"
      ]
     },
     "execution_count": 12,
     "metadata": {},
     "output_type": "execute_result"
    },
    {
     "data": {
      "image/png": "[encoded data removed]",
      "text/plain": [
       "<Figure size 640x480 with 1 Axes>"
      ]
     },
     "metadata": {},
     "output_type": "display_data"
    }
   ],
   "source": [
    "sns.boxplot(x='Price', data=house)"
   ]
  },
  {
   "cell_type": "code",
   "execution_count": 13,
   "id": "c20f0a02",
   "metadata": {},
   "outputs": [],
   "source": [
    "percentile25 = house['Price'].quantile(0.25)\n",
    "percentile75 = house['Price'].quantile(0.75)\n",
    "iqr = percentile75 - percentile25\n",
    "upper_limit = percentile75 +1.5 *iqr\n",
    "lower_limit = percentile25 - 1.5 *iqr\n"
   ]
  },
  {
   "cell_type": "code",
   "execution_count": 14,
   "id": "bdb85a53",
   "metadata": {},
   "outputs": [
    {
     "data": {
      "text/plain": [
       "35800000.0"
      ]
     },
     "execution_count": 14,
     "metadata": {},
     "output_type": "execute_result"
    }
   ],
   "source": [
    "upper_limit"
   ]
  },
  {
   "cell_type": "code",
   "execution_count": 15,
   "id": "2c74e633",
   "metadata": {},
   "outputs": [],
   "source": [
    "house = house[(house['Price'] <= 25000000)]"
   ]
  },
  {
   "cell_type": "code",
   "execution_count": 16,
   "id": "10180835",
   "metadata": {},
   "outputs": [
    {
     "data": {
      "text/plain": [
       "(5457, 8)"
      ]
     },
     "execution_count": 16,
     "metadata": {},
     "output_type": "execute_result"
    }
   ],
   "source": [
    "house.shape"
   ]
  },
  {
   "cell_type": "code",
   "execution_count": 17,
   "id": "36b8ca12",
   "metadata": {},
   "outputs": [
    {
     "data": {
      "text/html": [
       "<div>\n",
       "<style scoped>\n",
       "    .dataframe tbody tr th:only-of-type {\n",
       "        vertical-align: middle;\n",
       "    }\n",
       "\n",
       "    .dataframe tbody tr th {\n",
       "        vertical-align: top;\n",
       "    }\n",
       "\n",
       "    .dataframe thead th {\n",
       "        text-align: right;\n",
       "    }\n",
       "</style>\n",
       "<table border=\"1\" class=\"dataframe\">\n",
       "  <thead>\n",
       "    <tr style=\"text-align: right;\">\n",
       "      <th></th>\n",
       "      <th>Price</th>\n",
       "      <th>Area</th>\n",
       "      <th>No. of Bedrooms</th>\n",
       "      <th>Gymnasium</th>\n",
       "      <th>Car Parking</th>\n",
       "      <th>Landscaped Gardens</th>\n",
       "      <th>Swimming Pool</th>\n",
       "    </tr>\n",
       "  </thead>\n",
       "  <tbody>\n",
       "    <tr>\n",
       "      <th>count</th>\n",
       "      <td>5.457000e+03</td>\n",
       "      <td>5457.000000</td>\n",
       "      <td>5457.000000</td>\n",
       "      <td>5457.000000</td>\n",
       "      <td>5457.00000</td>\n",
       "      <td>5457.000000</td>\n",
       "      <td>5457.000000</td>\n",
       "    </tr>\n",
       "    <tr>\n",
       "      <th>mean</th>\n",
       "      <td>9.631762e+06</td>\n",
       "      <td>879.832325</td>\n",
       "      <td>1.719076</td>\n",
       "      <td>0.561114</td>\n",
       "      <td>0.55635</td>\n",
       "      <td>0.345794</td>\n",
       "      <td>0.433755</td>\n",
       "    </tr>\n",
       "    <tr>\n",
       "      <th>std</th>\n",
       "      <td>5.849608e+06</td>\n",
       "      <td>347.175044</td>\n",
       "      <td>0.707929</td>\n",
       "      <td>0.496296</td>\n",
       "      <td>0.49686</td>\n",
       "      <td>0.475670</td>\n",
       "      <td>0.495638</td>\n",
       "    </tr>\n",
       "    <tr>\n",
       "      <th>min</th>\n",
       "      <td>2.000000e+06</td>\n",
       "      <td>200.000000</td>\n",
       "      <td>1.000000</td>\n",
       "      <td>0.000000</td>\n",
       "      <td>0.00000</td>\n",
       "      <td>0.000000</td>\n",
       "      <td>0.000000</td>\n",
       "    </tr>\n",
       "    <tr>\n",
       "      <th>25%</th>\n",
       "      <td>4.800000e+06</td>\n",
       "      <td>620.000000</td>\n",
       "      <td>1.000000</td>\n",
       "      <td>0.000000</td>\n",
       "      <td>0.00000</td>\n",
       "      <td>0.000000</td>\n",
       "      <td>0.000000</td>\n",
       "    </tr>\n",
       "    <tr>\n",
       "      <th>50%</th>\n",
       "      <td>8.400000e+06</td>\n",
       "      <td>800.000000</td>\n",
       "      <td>2.000000</td>\n",
       "      <td>1.000000</td>\n",
       "      <td>1.00000</td>\n",
       "      <td>0.000000</td>\n",
       "      <td>0.000000</td>\n",
       "    </tr>\n",
       "    <tr>\n",
       "      <th>75%</th>\n",
       "      <td>1.350000e+07</td>\n",
       "      <td>1098.000000</td>\n",
       "      <td>2.000000</td>\n",
       "      <td>1.000000</td>\n",
       "      <td>1.00000</td>\n",
       "      <td>1.000000</td>\n",
       "      <td>1.000000</td>\n",
       "    </tr>\n",
       "    <tr>\n",
       "      <th>max</th>\n",
       "      <td>2.500000e+07</td>\n",
       "      <td>3200.000000</td>\n",
       "      <td>7.000000</td>\n",
       "      <td>1.000000</td>\n",
       "      <td>1.00000</td>\n",
       "      <td>1.000000</td>\n",
       "      <td>1.000000</td>\n",
       "    </tr>\n",
       "  </tbody>\n",
       "</table>\n",
       "</div>"
      ],
      "text/plain": [
       "              Price         Area  No. of Bedrooms    Gymnasium  Car Parking  \\\n",
       "count  5.457000e+03  5457.000000      5457.000000  5457.000000   5457.00000   \n",
       "mean   9.631762e+06   879.832325         1.719076     0.561114      0.55635   \n",
       "std    5.849608e+06   347.175044         0.707929     0.496296      0.49686   \n",
       "min    2.000000e+06   200.000000         1.000000     0.000000      0.00000   \n",
       "25%    4.800000e+06   620.000000         1.000000     0.000000      0.00000   \n",
       "50%    8.400000e+06   800.000000         2.000000     1.000000      1.00000   \n",
       "75%    1.350000e+07  1098.000000         2.000000     1.000000      1.00000   \n",
       "max    2.500000e+07  3200.000000         7.000000     1.000000      1.00000   \n",
       "\n",
       "       Landscaped Gardens  Swimming Pool  \n",
       "count         5457.000000    5457.000000  \n",
       "mean             0.345794       0.433755  \n",
       "std              0.475670       0.495638  \n",
       "min              0.000000       0.000000  \n",
       "25%              0.000000       0.000000  \n",
       "50%              0.000000       0.000000  \n",
       "75%              1.000000       1.000000  \n",
       "max              1.000000       1.000000  "
      ]
     },
     "execution_count": 17,
     "metadata": {},
     "output_type": "execute_result"
    }
   ],
   "source": [
    "house.describe()"
   ]
  },
  {
   "cell_type": "code",
   "execution_count": null,
   "id": "6fa7a356",
   "metadata": {},
   "outputs": [],
   "source": []
  },
  {
   "cell_type": "code",
   "execution_count": 18,
   "id": "067a017d",
   "metadata": {
    "scrolled": true
   },
   "outputs": [
    {
     "data": {
      "text/plain": [
       "<Axes: xlabel='Price'>"
      ]
     },
     "execution_count": 18,
     "metadata": {},
     "output_type": "execute_result"
    },
    {
     "data": {
      "image/png": "[encoded data removed]",
      "text/plain": [
       "<Figure size 640x480 with 1 Axes>"
      ]
     },
     "metadata": {},
     "output_type": "display_data"
    }
   ],
   "source": [
    "sns.boxplot(x='Price', data=house)"
   ]
  },
  {
   "cell_type": "code",
   "execution_count": 19,
   "id": "bd4ae71e",
   "metadata": {},
   "outputs": [
    {
     "data": {
      "text/plain": [
       "<Axes: xlabel='Area'>"
      ]
     },
     "execution_count": 19,
     "metadata": {},
     "output_type": "execute_result"
    },
    {
     "data": {
      "image/png": "[encoded data removed]",
      "text/plain": [
       "<Figure size 640x480 with 1 Axes>"
      ]
     },
     "metadata": {},
     "output_type": "display_data"
    }
   ],
   "source": [
    "sns.boxplot(x='Area', data=house)"
   ]
  },
  {
   "cell_type": "code",
   "execution_count": 20,
   "id": "0a120699",
   "metadata": {},
   "outputs": [],
   "source": [
    "percentile25 = house['Area'].quantile(0.25)\n",
    "percentile75 = house['Area'].quantile(0.75)\n",
    "iqr = percentile75 - percentile25\n",
    "upper_limit = percentile75 +1.5 *iqr\n",
    "lower_limit = percentile25 - 1.5 *iqr"
   ]
  },
  {
   "cell_type": "code",
   "execution_count": 21,
   "id": "4a6f8bc7",
   "metadata": {},
   "outputs": [],
   "source": [
    "house = house[(house['Area'] <= upper_limit)]"
   ]
  },
  {
   "cell_type": "code",
   "execution_count": 22,
   "id": "adff9547",
   "metadata": {},
   "outputs": [
    {
     "data": {
      "text/plain": [
       "<Axes: xlabel='Area'>"
      ]
     },
     "execution_count": 22,
     "metadata": {},
     "output_type": "execute_result"
    },
    {
     "data": {
      "image/png": "[encoded data removed]",
      "text/plain": [
       "<Figure size 640x480 with 1 Axes>"
      ]
     },
     "metadata": {},
     "output_type": "display_data"
    }
   ],
   "source": [
    "sns.boxplot(x='Area', data=house)"
   ]
  },
  {
   "cell_type": "code",
   "execution_count": 23,
   "id": "58d4e647",
   "metadata": {},
   "outputs": [
    {
     "data": {
      "text/plain": [
       "array([1, 3, 2, 4], dtype=int64)"
      ]
     },
     "execution_count": 23,
     "metadata": {},
     "output_type": "execute_result"
    }
   ],
   "source": [
    "house['No. of Bedrooms'].unique()"
   ]
  },
  {
   "cell_type": "code",
   "execution_count": 24,
   "id": "281a7b6c",
   "metadata": {},
   "outputs": [
    {
     "data": {
      "text/plain": [
       "array(['Kharghar', 'Sector-13 Kharghar', 'Sector 18 Kharghar',\n",
       "       'Sector 20 Kharghar', 'Sector 15 Kharghar', 'Dombivali',\n",
       "       'Jogeshwari West', 'Kalyan East', 'Malad East', 'Virar East',\n",
       "       'Virar', 'Malad West', 'Borivali East', 'Mira Road East',\n",
       "       'Goregaon West', 'Kandivali West', 'Andheri East', 'Ulwe',\n",
       "       'Dahisar', 'kandivali', 'Goregaon', 'Bhandup West',\n",
       "       'thakur village kandivali east', 'Kanjurmarg', 'Kandivali East',\n",
       "       'I C Colony', 'Dahisar W', 'Marol', 'Jogeshwari East',\n",
       "       'Chembur Shell Colony', 'Mulund', 'Nalasopara West',\n",
       "       'raheja vihar', 'Powai Lake', 'MHADA Colony 20', 'Goregaon East',\n",
       "       'Tolaram Colony', 'Taloja', 'Vangani', 'Sector 5 Ulwe',\n",
       "       'Sector12 New Panvel', 'Sector 17 Ulwe', 'Sector9 Kamothe',\n",
       "       'Sector 19 Kharghar', 'Navi Basti', 'Sector12 Kamothe',\n",
       "       'Sector 21 Kamothe', 'Rutu Enclave', 'taloja panchanand',\n",
       "       'Virar West', 'Chembur', 'Sector 20 Kamothe', 'Sector 22 Kamothe',\n",
       "       'Sector 18 Kamothe', 'Sector-5 Kamothe', 'Sector-6A Kamothe',\n",
       "       'Sector 11 Kamothe', 'Sector-18 Ulwe', 'Sector-12 Kamothe',\n",
       "       'azad nagar', 'Sindhi Society Chembur', 'Kurla', 'Sahkar Nagar',\n",
       "       'Deonar', 'Thane', 'Jankalyan Nagar', 'Badlapur', 'Ambarnath',\n",
       "       'Ambernath West', 'Vakola', 'Kamothe', 'Kamothe Sector 16',\n",
       "       'Palghar', 'Sector13 Kharghar', 'Sector 21 Kharghar',\n",
       "       'Sector 12 Kharghar', 'Vivek Vidyalaya Marg', 'Vasai east',\n",
       "       'Badlapur West', 'Thane West', 'Panvel', 'Kalyan', 'Badlapur East',\n",
       "       'Mira Bhayandar', 'Juhu', 'Naigaon East', 'Sector 21 Ulwe',\n",
       "       'Dronagiri', 'Nerul', 'Karanjade', 'Sanpada', 'Sector-8 Ulwe',\n",
       "       'Sector-3 Ulwe', 'Sector 23 Ulwe', 'ULWE SECTOR 19',\n",
       "       'Ghodbunder Road', 'Bhiwandi', 'Vasai', 'Nala Sopara', 'Ghatkopar',\n",
       "       'Asangaon', 'Koparkhairane Station Road',\n",
       "       'Kopar Khairane Sector 19A', 'Koper Khairane',\n",
       "       'Eastern Express Highway Vikhroli', 'Magathane', 'Rawal Pada',\n",
       "       'Ambernath East', 'Dokali Pada', 'Dattapada', 'Rajendra Nagar',\n",
       "       'Kulupwadi', 'Mira Road and Beyond', 'West Amardeep Colony',\n",
       "       'Pant Nagar', 'Four Bungalows', 'kolshet', 'Hiranandani Meadows',\n",
       "       'Kalpataru', 'Petali', 'Kharghar Sector 34C',\n",
       "       'Mumbai Agra National Highway', 'vasant vihar thane west',\n",
       "       'Kalyan West', 'Shirgaon', 'Pokhran 2', 'Borivali West',\n",
       "       'Palm Beach', 'Sector 10', 'Sector 19 Kamothe', 'Tilak Nagar',\n",
       "       'Dahisar West', 'Mulund West', 'Natakwala Lane', 'Link Road',\n",
       "       'Devidas Cross Lane', 'Soniwadi Road', 'Haridas Nagar', 'Shimpoli',\n",
       "       'TPS Road', 'Off Shimpoli road', 'Wadala', 'Worli',\n",
       "       'Rustomjee Global City', 'Sunil Nagar', 'Sector 30 Kharghar',\n",
       "       'Sector 12 A', 'Sector 18', 'Sector13 Khanda Colony',\n",
       "       'Sector16 Airoli', 'Ranjanpada', 'Sector 15', 'Sector 35G',\n",
       "       'Sector 5', 'Sector 35I Kharghar', 'Sector35D Kharghar',\n",
       "       'Sector34 A Kharghar', 'Sector 30', 'Sector 36 Kharghar',\n",
       "       'Sector 11 Belapur', 'Sector-34B Kharghar', 'Dombivali East',\n",
       "       'Roadpali', 'Sector-50 Seawoods', 'Mumbai Highway',\n",
       "       'Sector 7 Kharghar', 'Lokhandwala Township', 'Andheri', 'Parel',\n",
       "       'Wadala East Wadala', 'Kalwa', 'PARSIK NAGAR', 'Maharashtra Nagar',\n",
       "       'Patlipada', 'mumbai', 'Belapur', 'Seawoods', 'Majiwada',\n",
       "       '4 Bunglows', 'Airoli', 'Kolshet Road', 'Sector 10 Khanda Colony',\n",
       "       'Pokharan Road', 'Kharegaon', 'Panch Pakhadi', 'Chembur East',\n",
       "       'Sector 36 Kamothe', 'Dombivli (West)', 'DN Nagar Road',\n",
       "       'Godrej Hill', 'Ganesh Nagar', 'Haware City',\n",
       "       'Mahatma Gandhi Road', 'Akurli Nagar', 'Kasar vadavali',\n",
       "       'Vasai West', 'Mumbai Nashik Expressway', 'Katrap', 'Mira Road',\n",
       "       'Kasheli', 'Western Express Highway Kandivali East', 'Bandra West',\n",
       "       'Vasind', 'KASHELI', 'Thakurli', 'Shakti Nagar', 'Bhayandar East',\n",
       "       'Dahisar East', 'Ghatkopar West', 'ulhasnagar 4',\n",
       "       'Sector-26 Taloja', 'Koproli', 'Mumbai Central', 'Greater Khanda',\n",
       "       'link road borivali west', 'Manpada', 'Sector 2 Ulwe',\n",
       "       'Govind nagar', 'Krishanlal Marwah Marg', 'Sector-9 Ulwe',\n",
       "       'Andheri West', 'Vikhroli', 'Lokhandwala', 'Patel Nagar',\n",
       "       'Thakur complex', 'Sector 11 Kharghar', 'Ghansoli',\n",
       "       'Sector8 Sanpada', 'Jeejamata Nagar', 'Pandurangwadi',\n",
       "       'Shreyas Colony', 'Kannamwar Nagar II', 'gokuldham',\n",
       "       'Bangur Nagar', 'Shivaji Colony', 'Jawahar Nagar', 'Titwala',\n",
       "       'Manvel pada Road', 'Govandi', 'Shilphata Road Thane',\n",
       "       'Vasant Vihar', 'Thakur Village', 'Samata nagar', 'Wadi Bandar',\n",
       "       'Kapurbawadi', 'Thane Belapur Road Kalwa', 'Suburbs Mumbai',\n",
       "       'Ramdev Park', 'Sector-35 Kamothe', 'Diva', 'Borivali',\n",
       "       'Kondivita Road', 'Saki Naka', 'Bhayandar West', 'Sriprastha',\n",
       "       'Morya Nagar', 'IT Colony', 'Bhayandarpada', 'Sector-24 Kamothe',\n",
       "       'Sector 6', 'Malad', 'Majiwada thane', 'Yogi Hills',\n",
       "       'Sector 19 Nerul', 'Owale', 'MG Road', 'roadpali navimumbai',\n",
       "       'Taloja Bypass Nitalas Link Road', 'Rasayani', 'Sector 10 Kamothe',\n",
       "       'kavesar', 'Kalamboli', 'Kopara', 'royal palms goregaon east',\n",
       "       'vrindavan society', 'CBD Belapur East', 'Parel Village',\n",
       "       'Sector 19A Nerul', 'Antop Hill', 'Suman Nagar', 'Bhakti Park',\n",
       "       'Bandra East', 'VishnuNagar', 'Vichumbe', 'Vashi',\n",
       "       'Poonam Sagar Complex', 'Mulund East', 'Sector-8 Sanpada',\n",
       "       'Balkum', 'Hiranandani Estates', 'Vartak Nagar', 'Charkop',\n",
       "       'dhanukarwadi', 'Vazira', 'Four Bunglows', 'Palava',\n",
       "       'Pokhran Road No 2', 'Sainath Nagar', 'Kapur Bawdi',\n",
       "       'Kolshet Industrial Area', 'Sector16 Ulwe',\n",
       "       'Anand Nagar Thane West', 'Charkop Sector 8', 'Khar', 'Prabhadevi',\n",
       "       'Vile Parle', 'sec 50 new', 'Vakola Pipeline Road', 'Neral',\n",
       "       'Shil Phata', 'matunga east', 'Santacruz East', 'Dharavi',\n",
       "       'Ville Parle East', 'Powai', 'Anjurdive', 'Sion', 'Uran', 'Boisar',\n",
       "       'Kanjurmarg East', 'Kurla West', 'vile parle west', 'Sewri',\n",
       "       'Ambivali', 'Nalasopara East', 'Vijay Nagar', 'Chedda Nagar',\n",
       "       'Kurla East', 'Kharodi', 'Vikhroli West', 'Wadala East',\n",
       "       'Palidevad', 'Vikroli East', 'Khalapur', 'Ghatkopar East',\n",
       "       'Karjat', 'Bhoiwada Kalyan', 'Beturkar Pada', 'Ambivli',\n",
       "       'Nilje Gaon', 'Matunga', 'Khopoli', 'Taloje', 'Gulal Wadi',\n",
       "       'Tilak Nagar Mumbai', 'Chandivali', 'Nere', 'Kewale',\n",
       "       'Santacruz West', 'Sector 9 Airoli', 'Diva Gaon', 'Mahalaxmi',\n",
       "       'Adaigaon', 'Syndicate', 'Gandhar Nagar', 'Byculla', 'Padle Gaon'],\n",
       "      dtype=object)"
      ]
     },
     "execution_count": 24,
     "metadata": {},
     "output_type": "execute_result"
    }
   ],
   "source": [
    "house['Location'].unique()"
   ]
  },
  {
   "cell_type": "code",
   "execution_count": 25,
   "id": "4c79929d",
   "metadata": {},
   "outputs": [
    {
     "data": {
      "text/plain": [
       "Index(['Price', 'Area', 'Location', 'No. of Bedrooms', 'Gymnasium',\n",
       "       'Car Parking', 'Landscaped Gardens', 'Swimming Pool'],\n",
       "      dtype='object')"
      ]
     },
     "execution_count": 25,
     "metadata": {},
     "output_type": "execute_result"
    }
   ],
   "source": [
    "house.columns"
   ]
  },
  {
   "cell_type": "code",
   "execution_count": 26,
   "id": "573b87cd",
   "metadata": {},
   "outputs": [],
   "source": [
    "house['Gymnasium'] = house['Gymnasium'].apply(lambda x:'No' if x == 0 else 'Yes')"
   ]
  },
  {
   "cell_type": "code",
   "execution_count": 27,
   "id": "b81cc0a5",
   "metadata": {},
   "outputs": [],
   "source": [
    "house['Car Parking'] = house['Car Parking'].apply(lambda x:'No' if x == 0 else 'Yes')\n"
   ]
  },
  {
   "cell_type": "code",
   "execution_count": 28,
   "id": "a9e0295a",
   "metadata": {},
   "outputs": [],
   "source": [
    "house['Swimming Pool'] = house['Swimming Pool'].apply(lambda x:'No' if x == 0 else 'Yes')"
   ]
  },
  {
   "cell_type": "code",
   "execution_count": 29,
   "id": "ec6fb2d6",
   "metadata": {},
   "outputs": [],
   "source": [
    "house['Landscaped Gardens'] = house['Landscaped Gardens'].apply(lambda x:'No' if x == 0 else 'Yes')"
   ]
  },
  {
   "cell_type": "code",
   "execution_count": 107,
   "id": "869c7b5b",
   "metadata": {},
   "outputs": [],
   "source": [
    "x = house.drop(columns=['Price'])"
   ]
  },
  {
   "cell_type": "code",
   "execution_count": 108,
   "id": "3da51d5a",
   "metadata": {},
   "outputs": [],
   "source": [
    "y = house['Price']"
   ]
  },
  {
   "cell_type": "code",
   "execution_count": 109,
   "id": "98349bbf",
   "metadata": {},
   "outputs": [],
   "source": [
    "from sklearn.model_selection import train_test_split\n",
    "x_train,x_test,y_train,y_test=train_test_split(x,y,test_size=0.2, random_state=15)"
   ]
  },
  {
   "cell_type": "code",
   "execution_count": 110,
   "id": "4a5ada87",
   "metadata": {},
   "outputs": [],
   "source": [
    "from sklearn.linear_model import LinearRegression\n",
    "from sklearn.metrics import r2_score\n",
    "from sklearn.preprocessing import OneHotEncoder\n",
    "from sklearn.compose import make_column_transformer\n",
    "from sklearn.pipeline import make_pipeline"
   ]
  },
  {
   "cell_type": "code",
   "execution_count": 126,
   "id": "a99f0dd4",
   "metadata": {},
   "outputs": [],
   "source": [
    "ohe=OneHotEncoder()\n",
    "ohe.fit(x[['Location','Gymnasium','Car Parking','Landscaped Gardens','Swimming Pool']])\n",
    "column_trans=make_column_transformer((OneHotEncoder(categories=ohe.categories_),['Location','Gymnasium','Car Parking','Landscaped Gardens','Swimming Pool']),remainder='passthrough')\n"
   ]
  },
  {
   "cell_type": "code",
   "execution_count": 127,
   "id": "58f7b740",
   "metadata": {},
   "outputs": [
    {
     "name": "stdout",
     "output_type": "stream",
     "text": [
      "0.8196055486327354\n"
     ]
    }
   ],
   "source": [
    "lr=LinearRegression()\n",
    "pipe=make_pipeline(column_trans,lr)\n",
    "pipe.fit(x_train,y_train)\n",
    "y_predict_lr=pipe.predict(x_test)\n",
    "from sklearn.metrics import r2_score\n",
    "print(r2_score(y_true=y_test, y_pred=y_predict_lr))"
   ]
  },
  {
   "cell_type": "code",
   "execution_count": 119,
   "id": "9cad312e",
   "metadata": {},
   "outputs": [
    {
     "name": "stdout",
     "output_type": "stream",
     "text": [
      "0.6434098905293646\n"
     ]
    }
   ],
   "source": [
    "from sklearn.tree import DecisionTreeClassifier\n",
    "dtc = DecisionTreeClassifier()\n",
    "pipe_dtc=make_pipeline(column_trans,dtc)\n",
    "pipe_dtc.fit(x_train,y_train)\n",
    "y_predict_dtc=pipe_dtc.predict(x_test)\n",
    "from sklearn.metrics import r2_score\n",
    "print(r2_score(y_true=y_test, y_pred=y_predict_dtc))"
   ]
  },
  {
   "cell_type": "code",
   "execution_count": 147,
   "id": "c7264ae0",
   "metadata": {},
   "outputs": [
    {
     "name": "stdout",
     "output_type": "stream",
     "text": [
      "0.7888271307296424\n"
     ]
    }
   ],
   "source": [
    "from sklearn.ensemble import RandomForestRegressor\n",
    "rfc = RandomForestRegressor()\n",
    "pipe_rfc=make_pipeline(column_trans,rfc)\n",
    "pipe_rfc.fit(x_train,y_train)\n",
    "y_predict_rfc=pipe_rfc.predict(x_test)\n",
    "from sklearn.metrics import r2_score\n",
    "print(r2_score(y_true=y_test, y_pred=y_predict_rfc))"
   ]
  },
  {
   "cell_type": "code",
   "execution_count": 148,
   "id": "05f1dd3a",
   "metadata": {},
   "outputs": [
    {
     "name": "stdout",
     "output_type": "stream",
     "text": [
      "0.8210210086862824\n"
     ]
    },
    {
     "name": "stderr",
     "output_type": "stream",
     "text": [
      "C:\\Users\\DELL\\anaconda3\\lib\\site-packages\\sklearn\\linear_model\\_coordinate_descent.py:592: ConvergenceWarning: Objective did not converge. You might want to increase the number of iterations. Duality gap: 6247432431972516.0, tolerance: 14516580646992.96\n",
      "  model = cd_fast.sparse_enet_coordinate_descent(\n"
     ]
    }
   ],
   "source": [
    "from sklearn.linear_model import Lasso\n",
    "l = Lasso()\n",
    "pipe_l=make_pipeline(column_trans,l)\n",
    "pipe_l.fit(x_train,y_train)\n",
    "y_predict_l=pipe_l.predict(x_test)\n",
    "from sklearn.metrics import r2_score\n",
    "print(r2_score(y_true=y_test, y_pred=y_predict_l))"
   ]
  },
  {
   "cell_type": "code",
   "execution_count": 141,
   "id": "5393e799",
   "metadata": {},
   "outputs": [
    {
     "data": {
      "text/plain": [
       "11482432.0"
      ]
     },
     "execution_count": 141,
     "metadata": {},
     "output_type": "execute_result"
    }
   ],
   "source": [
    "my_car_prediction=pipe_l.predict(pd.DataFrame([['Borivali East',200,2,'No','No','Yes','No']], columns=['Location','Area','No. of Bedrooms','Gymnasium','Car Parking','Landscaped Gardens','Swimming Pool']))\n",
    "\n",
    "abs(np.round(my_car_prediction[0]))"
   ]
  },
  {
   "cell_type": "code",
   "execution_count": null,
   "id": "ec2295e5",
   "metadata": {},
   "outputs": [],
   "source": []
  },
  {
   "cell_type": "code",
   "execution_count": 145,
   "id": "c354f9ad",
   "metadata": {},
   "outputs": [],
   "source": [
    "import pickle\n",
    "pickle.dump(pipe,open('mumbai_House_Price_Predictor.pkl','wb'))"
   ]
  },
  {
   "cell_type": "code",
   "execution_count": 146,
   "id": "343c8cdd",
   "metadata": {},
   "outputs": [],
   "source": [
    "house.to_csv('cleaned_mumbai_house.csv')"
   ]
  },
  {
   "cell_type": "code",
   "execution_count": 131,
   "id": "b3c61a4c",
   "metadata": {},
   "outputs": [],
   "source": [
    "model=pickle.load(open('mumbai_House_Price_Predictor.pkl','rb'))"
   ]
  },
  {
   "cell_type": "code",
   "execution_count": 142,
   "id": "fc5fbb0c",
   "metadata": {},
   "outputs": [],
   "source": [
    "area=500\n",
    "location='Vijay Nagar'\n",
    "No_of_Bedroom=2\n",
    "Gymnasium='No'\n",
    "Car_Parking='Yes'\n",
    "Gardens='No'\n",
    "Swimming_Pool='No'"
   ]
  },
  {
   "cell_type": "code",
   "execution_count": 143,
   "id": "820a8ef4",
   "metadata": {},
   "outputs": [],
   "source": [
    "prediction = model.predict(pd.DataFrame(columns=['Area','Location','No. of Bedrooms','Gymnasium','Car Parking','Landscaped Gardens','Swimming Pool'],\n",
    "                              data=np.array([area,location,No_of_Bedroom,Gymnasium,Car_Parking,Gardens,Swimming_Pool]).reshape(1, 7)))"
   ]
  },
  {
   "cell_type": "code",
   "execution_count": 144,
   "id": "94ca0717",
   "metadata": {},
   "outputs": [
    {
     "data": {
      "text/plain": [
       "11482431.63"
      ]
     },
     "execution_count": 144,
     "metadata": {},
     "output_type": "execute_result"
    }
   ],
   "source": [
    "np.round(my_car_prediction[0],2)"
   ]
  },
  {
   "cell_type": "code",
   "execution_count": null,
   "id": "48b1b06b",
   "metadata": {},
   "outputs": [],
   "source": []
  }
 ],
 "metadata": {
  "kernelspec": {
   "display_name": "Python 3 (ipykernel)",
   "language": "python",
   "name": "python3"
  },
  "language_info": {
   "codemirror_mode": {
    "name": "ipython",
    "version": 3
   },
   "file_extension": ".py",
   "mimetype": "text/x-python",
   "name": "python",
   "nbconvert_exporter": "python",
   "pygments_lexer": "ipython3",
   "version": "3.9.13"
  }
 },
 "nbformat": 4,
 "nbformat_minor": 5
}
